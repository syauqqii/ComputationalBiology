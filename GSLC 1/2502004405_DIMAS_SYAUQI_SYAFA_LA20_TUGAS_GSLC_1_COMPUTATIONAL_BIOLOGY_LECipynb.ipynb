{
  "nbformat": 4,
  "nbformat_minor": 0,
  "metadata": {
    "colab": {
      "provenance": [],
      "authorship_tag": "ABX9TyOyXZzcUlRD0ZBsz/B1B7dp",
      "include_colab_link": true
    },
    "kernelspec": {
      "name": "python3",
      "display_name": "Python 3"
    },
    "language_info": {
      "name": "python"
    }
  },
  "cells": [
    {
      "cell_type": "markdown",
      "metadata": {
        "id": "view-in-github",
        "colab_type": "text"
      },
      "source": [
        "<a href=\"https://colab.research.google.com/github/syauqqii/ComputationalBiology/blob/main/GSLC%201/2502004405_DIMAS_SYAUQI_SYAFA_LA20_TUGAS_GSLC_1_COMPUTATIONAL_BIOLOGY_LECipynb.ipynb\" target=\"_parent\"><img src=\"https://colab.research.google.com/assets/colab-badge.svg\" alt=\"Open In Colab\"/></a>"
      ]
    },
    {
      "cell_type": "markdown",
      "source": [
        "# GSLC 1"
      ],
      "metadata": {
        "id": "tBQCAhc_eOTB"
      }
    },
    {
      "cell_type": "code",
      "execution_count": null,
      "metadata": {
        "id": "7hEyoRBcZ3JR"
      },
      "outputs": [],
      "source": [
        "# 2502004405 - Dimas Syauqi Syafa (LA-20)\n",
        "\n",
        "\"\"\"\n",
        "  Import function system() dari library \"os\"\n",
        "function ini saya gunakan untuk handle error\n",
        "ketika proses import library, lalu library tsb\n",
        "tidak ada, maka akan otomatis eksekusi command\n",
        "pip install {nama library}\n",
        "\"\"\"\n",
        "from os import system\n",
        "\n",
        "# Try Except (handle error ModuleNotFoundError)\n",
        "try:\n",
        "  import Bio\n",
        "# Jika Library tidak ditemukan, maka download library\n",
        "except ModuleNotFoundError:\n",
        "  system(\"pip install biopython\")\n",
        "  import Bio\n",
        "\n",
        "# Try Except (handle error ImportError)\n",
        "try:\n",
        "  import Bio\n",
        "# Jika Library tidak dapat diimport, maka akan exit(1)\n",
        "except ImportError:\n",
        "  exit(1)\n",
        "\n",
        "# Import library yang dibutuhkan\n",
        "from Bio import Seq\n",
        "from Bio.SeqUtils import GC, MeltingTemp as mt, molecular_weight as mw"
      ]
    },
    {
      "cell_type": "code",
      "source": [
        "# --- Penyelesaian untuk nomor 1 ---\n",
        "\n",
        "# Deklarasi sequence variable berdasarkan yang ada di soal\n",
        "genericDNA_1 = 'ATGATCTCGTAA'\n",
        "genericDNA_2 = 'ATTAAAGGTTTATACCTTCCCAGGTAACAAACCAACCAA'"
      ],
      "metadata": {
        "id": "I2kuQUIGcVUg"
      },
      "execution_count": null,
      "outputs": []
    },
    {
      "cell_type": "code",
      "source": [
        "# --- Penyelesaian untuk nomor 2 ---\n",
        "\n",
        "# Dapatkan jumlah frekuensi setiap basa pada seq 1,\n",
        "# Kemudian tampilkan langsung hasilnya\n",
        "print(\"\\n # Frequensi DNA Sequence-1 :\")\n",
        "print(f\"   A berjumlah {genericDNA_1.count('A')}\")\n",
        "print(f\"   T berjumlah {genericDNA_1.count('T')}\")\n",
        "print(f\"   C berjumlah {genericDNA_1.count('C')}\")\n",
        "print(f\"   G berjumlah {genericDNA_1.count('G')}\")\n",
        "\n",
        "# Dapatkan jumlah frekuensi setiap basa pada seq 2,\n",
        "# Kemudian tampilkan langsung hasilnya\n",
        "print(\"\\n # Frequensi DNA Sequence-2 :\")\n",
        "print(f\"   A berjumlah {genericDNA_2.count('A')}\")\n",
        "print(f\"   T berjumlah {genericDNA_2.count('T')}\")\n",
        "print(f\"   C berjumlah {genericDNA_2.count('C')}\")\n",
        "print(f\"   G berjumlah {genericDNA_2.count('G')}\")"
      ],
      "metadata": {
        "colab": {
          "base_uri": "https://localhost:8080/"
        },
        "id": "OQzm5lFmoRcc",
        "outputId": "bb646381-ec0e-4cc6-c219-f121c1fe7058"
      },
      "execution_count": null,
      "outputs": [
        {
          "output_type": "stream",
          "name": "stdout",
          "text": [
            "\n",
            " # Frequensi DNA Sequence-1 :\n",
            "   A berjumlah 4\n",
            "   T berjumlah 4\n",
            "   C berjumlah 2\n",
            "   G berjumlah 2\n",
            "\n",
            " # Frequensi DNA Sequence-2 :\n",
            "   A berjumlah 16\n",
            "   T berjumlah 9\n",
            "   C berjumlah 10\n",
            "   G berjumlah 4\n"
          ]
        }
      ]
    },
    {
      "cell_type": "code",
      "source": [
        "# --- Penyelesaian untuk nomor 3 ---\n",
        "\n",
        "# Membuat function untuk mencari kandungan AT\n",
        "def AT(seq):\n",
        "  # Rumus dari PPT Comp. BIO LAB Sesi-2 (slide 5)\n",
        "  return float(seq.count('A') + seq.count('T')) / len(seq) * 100\n",
        "  \n",
        "# Menghitung Kandungan GC dengan function GC() => tampilkan\n",
        "print(\"\\n # Kandungan GC :\")\n",
        "print(f\"   sequence-1 sebesar {GC(genericDNA_1)}\")\n",
        "print(f\"   sequence-2 sebesar {GC(genericDNA_2)}\")\n",
        "\n",
        "# Menghitung Kandungan AT dengan function AT() => tampilkan\n",
        "print(\"\\n # Kandungan AT :\")\n",
        "print(f\"   sequence-1 sebesar {AT(genericDNA_1)}\")\n",
        "print(f\"   sequence-2 sebesar {AT(genericDNA_2)}\")\n",
        "\n",
        "# Menghitung titik leleh dengan function *.Tm_Wallace() => tampilkan\n",
        "print(\"\\n # Titik Leleh :\")\n",
        "print(f\"   sequence-1 sebesar {mt.Tm_Wallace(genericDNA_1)}\")\n",
        "print(f\"   sequence-2 sebesar {mt.Tm_Wallace(genericDNA_2)}\\n\")"
      ],
      "metadata": {
        "colab": {
          "base_uri": "https://localhost:8080/"
        },
        "id": "kYXzYW5ipnzS",
        "outputId": "ec0a57a0-6b23-4f1d-a09a-bc3dd4f6033f"
      },
      "execution_count": null,
      "outputs": [
        {
          "output_type": "stream",
          "name": "stdout",
          "text": [
            "\n",
            " # Kandungan GC :\n",
            "   sequence-1 sebesar 33.333333333333336\n",
            "   sequence-2 sebesar 35.8974358974359\n",
            "\n",
            " # Kandungan AT :\n",
            "   sequence-1 sebesar 66.66666666666666\n",
            "   sequence-2 sebesar 64.1025641025641\n",
            "\n",
            " # Titik Leleh :\n",
            "   sequence-1 sebesar 32.0\n",
            "   sequence-2 sebesar 106.0\n",
            "\n"
          ]
        },
        {
          "output_type": "stream",
          "name": "stderr",
          "text": [
            "/usr/local/lib/python3.9/dist-packages/Bio/SeqUtils/__init__.py:144: BiopythonDeprecationWarning: GC is deprecated; please use gc_fraction instead.\n",
            "  warnings.warn(\n"
          ]
        }
      ]
    },
    {
      "cell_type": "code",
      "source": [
        "# --- Penyelesaian untuk nomor 4 ---\n",
        "\n",
        "# Tampilkan berat molekul\n",
        "print(\"\\n # Berat Molekul :\")\n",
        "print(f\"   sequence-1 sebesar {mw(genericDNA_1)}\")\n",
        "print(f\"   sequence-2 sebesar {mw(genericDNA_2)}\")\n",
        "\n",
        "# Tampilkan titik didihnya\n",
        "print(\"\\n # Titik Didih Molekul :\")\n",
        "print(f\"   sequence-1 sebesar {mt.Tm_NN(genericDNA_1)}\")\n",
        "print(f\"   sequence-2 sebesar {mt.Tm_NN(genericDNA_2)}\\n\")"
      ],
      "metadata": {
        "colab": {
          "base_uri": "https://localhost:8080/"
        },
        "id": "ZsbUNFUCuiMf",
        "outputId": "8da0aaa9-4fbe-4b34-a435-7ca6b2162279"
      },
      "execution_count": null,
      "outputs": [
        {
          "output_type": "stream",
          "name": "stdout",
          "text": [
            "\n",
            " # Berat Molekul :\n",
            "   sequence-1 sebesar 3724.3894999999998\n",
            "   sequence-2 sebesar 11975.699699999994\n",
            "\n",
            " # Titik Didih Molekul :\n",
            "   sequence-1 sebesar 25.141964755138133\n",
            "   sequence-2 sebesar 61.21327467680533\n",
            "\n"
          ]
        }
      ]
    }
  ]
}
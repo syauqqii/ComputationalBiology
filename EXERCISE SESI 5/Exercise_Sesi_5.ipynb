{
  "nbformat": 4,
  "nbformat_minor": 0,
  "metadata": {
    "colab": {
      "provenance": [],
      "authorship_tag": "ABX9TyO2Yc22aozgGz0bNE4H4yK4",
      "include_colab_link": true
    },
    "kernelspec": {
      "name": "python3",
      "display_name": "Python 3"
    },
    "language_info": {
      "name": "python"
    }
  },
  "cells": [
    {
      "cell_type": "markdown",
      "metadata": {
        "id": "view-in-github",
        "colab_type": "text"
      },
      "source": [
        "<a href=\"https://colab.research.google.com/github/syauqqii/ComputationalBiology/blob/main/EXERCISE%20SESI%205/Exercise_Sesi_5.ipynb\" target=\"_parent\"><img src=\"https://colab.research.google.com/assets/colab-badge.svg\" alt=\"Open In Colab\"/></a>"
      ]
    },
    {
      "cell_type": "markdown",
      "source": [
        "## Exercise Sesi 5"
      ],
      "metadata": {
        "id": "ML5S-ni10-yJ"
      }
    },
    {
      "cell_type": "code",
      "execution_count": 19,
      "metadata": {
        "id": "7rycmkalx_UO"
      },
      "outputs": [],
      "source": [
        "from os import system\n",
        "\n",
        "try:\n",
        "  from Bio import Entrez\n",
        "except ModuleNotFoundError:\n",
        "  try:\n",
        "    system(\"pip install Bio\")\n",
        "    from Bio import Entrez\n",
        "  except ImportError:\n",
        "    exit(0)"
      ]
    },
    {
      "cell_type": "code",
      "source": [
        "Entrez.email = 'learnbiopython@gmail.com'\n",
        "sciNames = ['Bos garus']"
      ],
      "metadata": {
        "id": "R3g6NUMbzEpO"
      },
      "execution_count": null,
      "outputs": []
    },
    {
      "cell_type": "code",
      "source": [
        "record = Entrez.read(Entrez.esearch(db='nucleotide',\n",
        "                                    term='Gata1[Gene Name] AND Mus musculus [Organism] AND refSeq[Keyword]',\n",
        "                                    retmax=100, idtype='acc'))\n",
        "\n",
        "print(record)"
      ],
      "metadata": {
        "colab": {
          "base_uri": "https://localhost:8080/"
        },
        "id": "3dueSBE6zdF2",
        "outputId": "6c41eb34-b0c3-4d90-b265-351f838e8a46"
      },
      "execution_count": 21,
      "outputs": [
        {
          "output_type": "stream",
          "name": "stdout",
          "text": [
            "{'Count': '4', 'RetMax': '4', 'RetStart': '0', 'IdList': ['NC_000086.8', 'NM_001410603.1', 'NM_001410604.1', 'NM_008089.3'], 'TranslationSet': [{'From': 'Mus musculus[Organism]', 'To': '\"Mus musculus\"[Organism]'}], 'TranslationStack': [{'Term': 'Gata1[Gene Name]', 'Field': 'Gene Name', 'Count': '1029', 'Explode': 'N'}, {'Term': '\"Mus musculus\"[Organism]', 'Field': 'Organism', 'Count': '11082045', 'Explode': 'Y'}, 'AND', {'Term': 'refSeq[Keyword]', 'Field': 'Keyword', 'Count': '96227988', 'Explode': 'N'}, 'AND'], 'QueryTranslation': 'Gata1[Gene Name] AND \"Mus musculus\"[Organism] AND refSeq[Keyword]'}\n"
          ]
        }
      ]
    },
    {
      "cell_type": "code",
      "source": [
        "for ID in record['IdList']:\n",
        "  if 'NM_' in ID:\n",
        "    fetch = Entrez.efetch(db='nucleotide', id=ID, rettype='fasta', retmode='text')\n",
        "    readFetch = fetch.readline()\n",
        "    print(readFetch)"
      ],
      "metadata": {
        "colab": {
          "base_uri": "https://localhost:8080/"
        },
        "id": "wjPBwi8yzg7w",
        "outputId": "abfbe170-5c37-4ca6-cb44-3e7b46017502"
      },
      "execution_count": 22,
      "outputs": [
        {
          "output_type": "stream",
          "name": "stdout",
          "text": [
            ">NM_001410603.1 Mus musculus GATA binding protein 1 (Gata1), transcript variant 1, mRNA\n",
            "\n",
            ">NM_001410604.1 Mus musculus GATA binding protein 1 (Gata1), transcript variant 2, mRNA\n",
            "\n",
            ">NM_008089.3 Mus musculus GATA binding protein 1 (Gata1), transcript variant 3, mRNA\n",
            "\n"
          ]
        }
      ]
    },
    {
      "cell_type": "code",
      "source": [
        "print(record)\n",
        "counter = 0\n",
        "fetchList = []\n",
        "for ID in record['IdList']:\n",
        "  if 'NM_' in ID:\n",
        "    counter += 1\n",
        "    fetch = Entrez.efetch(db='nucleotide',\n",
        "                          id=ID,\n",
        "                          rettype='fasta',\n",
        "                          retmode='text')\n",
        "    readFetch = fetch.readline()\n",
        "    fetchList.append(readFetch)\n",
        "\n",
        "  print(fetchList)\n",
        "  print(len(fetchList))"
      ],
      "metadata": {
        "colab": {
          "base_uri": "https://localhost:8080/"
        },
        "id": "bIAUYejpzjDF",
        "outputId": "bbde18e6-d952-4e78-bf91-4ba94785962d"
      },
      "execution_count": 23,
      "outputs": [
        {
          "output_type": "stream",
          "name": "stdout",
          "text": [
            "{'Count': '4', 'RetMax': '4', 'RetStart': '0', 'IdList': ['NC_000086.8', 'NM_001410603.1', 'NM_001410604.1', 'NM_008089.3'], 'TranslationSet': [{'From': 'Mus musculus[Organism]', 'To': '\"Mus musculus\"[Organism]'}], 'TranslationStack': [{'Term': 'Gata1[Gene Name]', 'Field': 'Gene Name', 'Count': '1029', 'Explode': 'N'}, {'Term': '\"Mus musculus\"[Organism]', 'Field': 'Organism', 'Count': '11082045', 'Explode': 'Y'}, 'AND', {'Term': 'refSeq[Keyword]', 'Field': 'Keyword', 'Count': '96227988', 'Explode': 'N'}, 'AND'], 'QueryTranslation': 'Gata1[Gene Name] AND \"Mus musculus\"[Organism] AND refSeq[Keyword]'}\n",
            "[]\n",
            "0\n",
            "['>NM_001410603.1 Mus musculus GATA binding protein 1 (Gata1), transcript variant 1, mRNA\\n']\n",
            "1\n",
            "['>NM_001410603.1 Mus musculus GATA binding protein 1 (Gata1), transcript variant 1, mRNA\\n', '>NM_001410604.1 Mus musculus GATA binding protein 1 (Gata1), transcript variant 2, mRNA\\n']\n",
            "2\n",
            "['>NM_001410603.1 Mus musculus GATA binding protein 1 (Gata1), transcript variant 1, mRNA\\n', '>NM_001410604.1 Mus musculus GATA binding protein 1 (Gata1), transcript variant 2, mRNA\\n', '>NM_008089.3 Mus musculus GATA binding protein 1 (Gata1), transcript variant 3, mRNA\\n']\n",
            "3\n"
          ]
        }
      ]
    }
  ]
}